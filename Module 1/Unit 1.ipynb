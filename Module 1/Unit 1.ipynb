{
 "cells": [
  {
   "cell_type": "markdown",
   "id": "dcb4a4e9",
   "metadata": {},
   "source": [
    "# Python Basic\n",
    "Python Fundamental\n"
   ]
  },
  {
   "cell_type": "markdown",
   "id": "47ee9d78",
   "metadata": {},
   "source": [
    "Python coding"
   ]
  },
  {
   "cell_type": "code",
   "execution_count": 1,
   "id": "9adf05c9",
   "metadata": {},
   "outputs": [
    {
     "name": "stdout",
     "output_type": "stream",
     "text": [
      "Hello Neotech\n"
     ]
    }
   ],
   "source": [
    "print(\"Hello Neotech\")"
   ]
  },
  {
   "cell_type": "code",
   "execution_count": 2,
   "id": "66cd07f6",
   "metadata": {},
   "outputs": [
    {
     "name": "stdout",
     "output_type": "stream",
     "text": [
      "Hello Mithil\n"
     ]
    }
   ],
   "source": [
    "print(\"Hello Mithil\")"
   ]
  },
  {
   "cell_type": "markdown",
   "id": "e3a0c33c",
   "metadata": {},
   "source": [
    "# Python Variable"
   ]
  },
  {
   "cell_type": "code",
   "execution_count": 3,
   "id": "5bc04cb7",
   "metadata": {},
   "outputs": [
    {
     "name": "stdout",
     "output_type": "stream",
     "text": [
      "Python\n",
      "55\n",
      "96\n",
      "151\n"
     ]
    }
   ],
   "source": [
    "var1 = \"Python\"\n",
    "a = 55\n",
    "b = 96\n",
    "print(var1)\n",
    "print(a)\n",
    "print(b)\n",
    "\n",
    "sum = a+b\n",
    "print(sum)\n"
   ]
  },
  {
   "cell_type": "code",
   "execution_count": 4,
   "id": "c3f1e35d",
   "metadata": {},
   "outputs": [
    {
     "name": "stdout",
     "output_type": "stream",
     "text": [
      "50\n"
     ]
    }
   ],
   "source": [
    "# variable\n",
    "var1=20\n",
    "var2=30\n",
    "\n",
    "var3= var1+var2\n",
    "print(var3)"
   ]
  },
  {
   "cell_type": "code",
   "execution_count": 5,
   "id": "b61f6be9",
   "metadata": {},
   "outputs": [
    {
     "data": {
      "text/plain": [
       "600"
      ]
     },
     "execution_count": 5,
     "metadata": {},
     "output_type": "execute_result"
    }
   ],
   "source": [
    "var4=var1*var2\n",
    "var4"
   ]
  },
  {
   "cell_type": "code",
   "execution_count": 6,
   "id": "1f2e6718",
   "metadata": {},
   "outputs": [
    {
     "data": {
      "text/plain": [
       "0.6666666666666666"
      ]
     },
     "execution_count": 6,
     "metadata": {},
     "output_type": "execute_result"
    }
   ],
   "source": [
    "var5=var1/var2\n",
    "var5"
   ]
  },
  {
   "cell_type": "code",
   "execution_count": 7,
   "id": "07c1d60a",
   "metadata": {},
   "outputs": [
    {
     "data": {
      "text/plain": [
       "-10"
      ]
     },
     "execution_count": 7,
     "metadata": {},
     "output_type": "execute_result"
    }
   ],
   "source": [
    "var6=var1-var2\n",
    "var6"
   ]
  },
  {
   "cell_type": "code",
   "execution_count": 8,
   "id": "921457d1",
   "metadata": {},
   "outputs": [
    {
     "name": "stdout",
     "output_type": "stream",
     "text": [
      "my name is Mithil\n",
      "500*1000*Mithil\n",
      "5/9/Neotech\n"
     ]
    }
   ],
   "source": [
    "count=500\n",
    "km=1000\n",
    "name=\"Mithil\"\n",
    "a,b,c=5,9,\"Neotech\"\n",
    "print(\"my name is Mithil\")\n",
    "print(count,km,name,sep='*')\n",
    "print(a,b,c,sep='/')"
   ]
  },
  {
   "cell_type": "code",
   "execution_count": 9,
   "id": "5d4f7b4f",
   "metadata": {},
   "outputs": [
    {
     "name": "stdout",
     "output_type": "stream",
     "text": [
      "5 5 5\n"
     ]
    }
   ],
   "source": [
    "a=b=c=5\n",
    "\n",
    "a\n",
    "b\n",
    "c\n",
    "\n",
    "print(a,b,c)"
   ]
  },
  {
   "cell_type": "code",
   "execution_count": 10,
   "id": "79659134",
   "metadata": {},
   "outputs": [
    {
     "data": {
      "text/plain": [
       "20"
      ]
     },
     "execution_count": 10,
     "metadata": {},
     "output_type": "execute_result"
    }
   ],
   "source": [
    "x,y,z=13,20,21\n",
    "y"
   ]
  },
  {
   "cell_type": "code",
   "execution_count": 11,
   "id": "d8baf77e",
   "metadata": {},
   "outputs": [],
   "source": [
    "del y"
   ]
  },
  {
   "cell_type": "markdown",
   "id": "eedbfb3c",
   "metadata": {},
   "source": [
    "# Data type\n",
    "numerical data types\n",
    "int\n",
    "float\n",
    "complex"
   ]
  },
  {
   "cell_type": "code",
   "execution_count": 12,
   "id": "0bab8a84",
   "metadata": {},
   "outputs": [
    {
     "name": "stdout",
     "output_type": "stream",
     "text": [
      "<class 'int'>\n",
      "<class 'float'>\n",
      "<class 'complex'>\n",
      "<class 'str'>\n",
      "<class 'bool'>\n"
     ]
    }
   ],
   "source": [
    "a=99\n",
    "b=85.56\n",
    "c=3.14j\n",
    "d=\"sap\"\n",
    "e=True\n",
    "\n",
    "print(type(a))\n",
    "print(type(b))\n",
    "print(type(c))\n",
    "print(type(d))\n",
    "print(type(e))"
   ]
  },
  {
   "cell_type": "code",
   "execution_count": 13,
   "id": "4b0a7602",
   "metadata": {},
   "outputs": [
    {
     "name": "stdout",
     "output_type": "stream",
     "text": [
      "Enter  the value of x: 9\n",
      "Enter  the value of y: 8\n"
     ]
    },
    {
     "data": {
      "text/plain": [
       "17"
      ]
     },
     "execution_count": 13,
     "metadata": {},
     "output_type": "execute_result"
    }
   ],
   "source": [
    "#how to take input from user\n",
    "#ask the user to enter the value of x and store it in varible x\n",
    "x = int(input(\"Enter  the value of x: \"))\n",
    "\n",
    "\n",
    "#ask the user to enter the value of x and store it in varible y\n",
    "y = int(input(\"Enter  the value of y: \"))\n",
    "\n",
    "#perform any mathemetical operation on user input \n",
    "z = x+y\n",
    "\n",
    "#print the answer\n",
    "z"
   ]
  },
  {
   "cell_type": "markdown",
   "id": "1da9a269",
   "metadata": {},
   "source": [
    "# String"
   ]
  },
  {
   "cell_type": "code",
   "execution_count": 14,
   "id": "e2b544f7",
   "metadata": {},
   "outputs": [
    {
     "data": {
      "text/plain": [
       "'i like python programing language'"
      ]
     },
     "execution_count": 14,
     "metadata": {},
     "output_type": "execute_result"
    }
   ],
   "source": [
    "str1=\"i like python programing language\"\n",
    "str1"
   ]
  },
  {
   "cell_type": "code",
   "execution_count": 15,
   "id": "ddd5d196",
   "metadata": {},
   "outputs": [
    {
     "data": {
      "text/plain": [
       "' number one'"
      ]
     },
     "execution_count": 15,
     "metadata": {},
     "output_type": "execute_result"
    }
   ],
   "source": [
    "str2=\" number one\"\n",
    "str2"
   ]
  },
  {
   "cell_type": "code",
   "execution_count": 16,
   "id": "97cc3abd",
   "metadata": {},
   "outputs": [
    {
     "data": {
      "text/plain": [
       "'i like python programing language number one'"
      ]
     },
     "execution_count": 16,
     "metadata": {},
     "output_type": "execute_result"
    }
   ],
   "source": [
    "str4=str1+str2\n",
    "str4"
   ]
  },
  {
   "cell_type": "code",
   "execution_count": 84,
   "id": "15d723c8",
   "metadata": {},
   "outputs": [
    {
     "name": "stdout",
     "output_type": "stream",
     "text": [
      "Neotech Institute Of Technology\n",
      "31\n"
     ]
    }
   ],
   "source": [
    "#string indexing and slicing\n",
    "\n",
    "name=\"Neotech Institute Of Technology\"\n",
    "print(name)\n",
    "print(len(name))\n"
   ]
  },
  {
   "cell_type": "code",
   "execution_count": 18,
   "id": "a5d84669",
   "metadata": {},
   "outputs": [
    {
     "data": {
      "text/plain": [
       "' '"
      ]
     },
     "execution_count": 18,
     "metadata": {},
     "output_type": "execute_result"
    }
   ],
   "source": [
    "name[7]"
   ]
  },
  {
   "cell_type": "code",
   "execution_count": 19,
   "id": "79664d83",
   "metadata": {},
   "outputs": [
    {
     "data": {
      "text/plain": [
       "'e'"
      ]
     },
     "execution_count": 19,
     "metadata": {},
     "output_type": "execute_result"
    }
   ],
   "source": [
    "name[4]"
   ]
  },
  {
   "cell_type": "code",
   "execution_count": 20,
   "id": "defab0d8",
   "metadata": {},
   "outputs": [
    {
     "data": {
      "text/plain": [
       "'o'"
      ]
     },
     "execution_count": 20,
     "metadata": {},
     "output_type": "execute_result"
    }
   ],
   "source": [
    "name[-5]"
   ]
  },
  {
   "cell_type": "code",
   "execution_count": 21,
   "id": "cc94a89a",
   "metadata": {},
   "outputs": [
    {
     "name": "stdout",
     "output_type": "stream",
     "text": [
      "my name is Mithil\n",
      "17\n"
     ]
    }
   ],
   "source": [
    "name=\"my name is Mithil\"\n",
    "print(name)\n",
    "print(len(name))"
   ]
  },
  {
   "cell_type": "code",
   "execution_count": 22,
   "id": "82b4a842",
   "metadata": {},
   "outputs": [
    {
     "data": {
      "text/plain": [
       "'i'"
      ]
     },
     "execution_count": 22,
     "metadata": {},
     "output_type": "execute_result"
    }
   ],
   "source": [
    "name[8]"
   ]
  },
  {
   "cell_type": "code",
   "execution_count": 23,
   "id": "f61e733c",
   "metadata": {},
   "outputs": [
    {
     "data": {
      "text/plain": [
       "'i'"
      ]
     },
     "execution_count": 23,
     "metadata": {},
     "output_type": "execute_result"
    }
   ],
   "source": [
    "name[-5]"
   ]
  },
  {
   "cell_type": "code",
   "execution_count": 24,
   "id": "7179de95",
   "metadata": {},
   "outputs": [
    {
     "data": {
      "text/plain": [
       "'m'"
      ]
     },
     "execution_count": 24,
     "metadata": {},
     "output_type": "execute_result"
    }
   ],
   "source": [
    "name[5]"
   ]
  },
  {
   "cell_type": "code",
   "execution_count": 25,
   "id": "25d4629a",
   "metadata": {},
   "outputs": [
    {
     "data": {
      "text/plain": [
       "'s'"
      ]
     },
     "execution_count": 25,
     "metadata": {},
     "output_type": "execute_result"
    }
   ],
   "source": [
    "name[9]"
   ]
  },
  {
   "cell_type": "code",
   "execution_count": 26,
   "id": "b5bf8b63",
   "metadata": {},
   "outputs": [
    {
     "data": {
      "text/plain": [
       "'s'"
      ]
     },
     "execution_count": 26,
     "metadata": {},
     "output_type": "execute_result"
    }
   ],
   "source": [
    "name[-8]"
   ]
  },
  {
   "cell_type": "code",
   "execution_count": 27,
   "id": "8359d108",
   "metadata": {},
   "outputs": [
    {
     "data": {
      "text/plain": [
       "'h'"
      ]
     },
     "execution_count": 27,
     "metadata": {},
     "output_type": "execute_result"
    }
   ],
   "source": [
    "name[-3]"
   ]
  },
  {
   "cell_type": "code",
   "execution_count": 28,
   "id": "043aac1e",
   "metadata": {},
   "outputs": [
    {
     "data": {
      "text/plain": [
       "' '"
      ]
     },
     "execution_count": 28,
     "metadata": {},
     "output_type": "execute_result"
    }
   ],
   "source": [
    "name[7]"
   ]
  },
  {
   "cell_type": "code",
   "execution_count": 29,
   "id": "715d70a0",
   "metadata": {},
   "outputs": [
    {
     "data": {
      "text/plain": [
       "'e'"
      ]
     },
     "execution_count": 29,
     "metadata": {},
     "output_type": "execute_result"
    }
   ],
   "source": [
    "name[-11]"
   ]
  },
  {
   "cell_type": "code",
   "execution_count": 30,
   "id": "a932ab53",
   "metadata": {},
   "outputs": [
    {
     "data": {
      "text/plain": [
       "' '"
      ]
     },
     "execution_count": 30,
     "metadata": {},
     "output_type": "execute_result"
    }
   ],
   "source": [
    "name[-10]"
   ]
  },
  {
   "cell_type": "code",
   "execution_count": 31,
   "id": "44e2beac",
   "metadata": {},
   "outputs": [
    {
     "data": {
      "text/plain": [
       "'y'"
      ]
     },
     "execution_count": 31,
     "metadata": {},
     "output_type": "execute_result"
    }
   ],
   "source": [
    "name[1]"
   ]
  },
  {
   "cell_type": "code",
   "execution_count": 32,
   "id": "e4638535",
   "metadata": {},
   "outputs": [
    {
     "data": {
      "text/plain": [
       "' '"
      ]
     },
     "execution_count": 32,
     "metadata": {},
     "output_type": "execute_result"
    }
   ],
   "source": [
    "name[2]"
   ]
  },
  {
   "cell_type": "code",
   "execution_count": 33,
   "id": "883d225a",
   "metadata": {},
   "outputs": [
    {
     "data": {
      "text/plain": [
       "'programming python language'"
      ]
     },
     "execution_count": 33,
     "metadata": {},
     "output_type": "execute_result"
    }
   ],
   "source": [
    "str1=\"{1} {0} {2}\".format('python','programming','language')\n",
    "str1"
   ]
  },
  {
   "cell_type": "markdown",
   "id": "833ed5b5",
   "metadata": {},
   "source": [
    "# List"
   ]
  },
  {
   "cell_type": "code",
   "execution_count": 34,
   "id": "6a9ec85b",
   "metadata": {},
   "outputs": [],
   "source": [
    "my_list=[1,2,3,4,5]"
   ]
  },
  {
   "cell_type": "code",
   "execution_count": 35,
   "id": "e30e282f",
   "metadata": {},
   "outputs": [
    {
     "data": {
      "text/plain": [
       "[1, 2, 3, 4, 5]"
      ]
     },
     "execution_count": 35,
     "metadata": {},
     "output_type": "execute_result"
    }
   ],
   "source": [
    "my_list"
   ]
  },
  {
   "cell_type": "code",
   "execution_count": 36,
   "id": "36a11ede",
   "metadata": {},
   "outputs": [
    {
     "data": {
      "text/plain": [
       "list"
      ]
     },
     "execution_count": 36,
     "metadata": {},
     "output_type": "execute_result"
    }
   ],
   "source": [
    "type(my_list)"
   ]
  },
  {
   "cell_type": "code",
   "execution_count": 37,
   "id": "439f632c",
   "metadata": {},
   "outputs": [
    {
     "data": {
      "text/plain": [
       "int"
      ]
     },
     "execution_count": 37,
     "metadata": {},
     "output_type": "execute_result"
    }
   ],
   "source": [
    "type(my_list[0])"
   ]
  },
  {
   "cell_type": "code",
   "execution_count": 38,
   "id": "373fb035",
   "metadata": {},
   "outputs": [],
   "source": [
    "x=[1,2,5.1,3.8,\"Hello\"]"
   ]
  },
  {
   "cell_type": "code",
   "execution_count": 39,
   "id": "4e0f7000",
   "metadata": {},
   "outputs": [
    {
     "data": {
      "text/plain": [
       "[1, 2, 5.1, 3.8, 'Hello']"
      ]
     },
     "execution_count": 39,
     "metadata": {},
     "output_type": "execute_result"
    }
   ],
   "source": [
    "x"
   ]
  },
  {
   "cell_type": "code",
   "execution_count": 40,
   "id": "866a782b",
   "metadata": {},
   "outputs": [
    {
     "data": {
      "text/plain": [
       "list"
      ]
     },
     "execution_count": 40,
     "metadata": {},
     "output_type": "execute_result"
    }
   ],
   "source": [
    "type(x)"
   ]
  },
  {
   "cell_type": "code",
   "execution_count": 41,
   "id": "31c671a9",
   "metadata": {},
   "outputs": [
    {
     "data": {
      "text/plain": [
       "3.8"
      ]
     },
     "execution_count": 41,
     "metadata": {},
     "output_type": "execute_result"
    }
   ],
   "source": [
    "x[3]"
   ]
  },
  {
   "cell_type": "code",
   "execution_count": 42,
   "id": "18c90587",
   "metadata": {},
   "outputs": [
    {
     "data": {
      "text/plain": [
       "'Hello'"
      ]
     },
     "execution_count": 42,
     "metadata": {},
     "output_type": "execute_result"
    }
   ],
   "source": [
    "x[-1]"
   ]
  },
  {
   "cell_type": "code",
   "execution_count": 43,
   "id": "f32cb640",
   "metadata": {},
   "outputs": [
    {
     "data": {
      "text/plain": [
       "float"
      ]
     },
     "execution_count": 43,
     "metadata": {},
     "output_type": "execute_result"
    }
   ],
   "source": [
    "type(x[3])"
   ]
  },
  {
   "cell_type": "code",
   "execution_count": 44,
   "id": "b67bc5ee",
   "metadata": {},
   "outputs": [
    {
     "data": {
      "text/plain": [
       "[2, 5.1]"
      ]
     },
     "execution_count": 44,
     "metadata": {},
     "output_type": "execute_result"
    }
   ],
   "source": [
    "x[1:3]"
   ]
  },
  {
   "cell_type": "code",
   "execution_count": 45,
   "id": "db8e4107",
   "metadata": {},
   "outputs": [],
   "source": [
    "x[4]=\"hi\""
   ]
  },
  {
   "cell_type": "code",
   "execution_count": 46,
   "id": "ac65a1fd",
   "metadata": {},
   "outputs": [
    {
     "data": {
      "text/plain": [
       "[1, 2, 5.1, 3.8, 'hi']"
      ]
     },
     "execution_count": 46,
     "metadata": {},
     "output_type": "execute_result"
    }
   ],
   "source": [
    "x"
   ]
  },
  {
   "cell_type": "code",
   "execution_count": 47,
   "id": "f0ea0a47",
   "metadata": {},
   "outputs": [
    {
     "name": "stdout",
     "output_type": "stream",
     "text": [
      "enter first value12\n",
      "enter second value23\n"
     ]
    }
   ],
   "source": [
    "x=input(\"enter first value\")\n",
    "y=input(\"enter second value\")"
   ]
  },
  {
   "cell_type": "code",
   "execution_count": 48,
   "id": "118c79cc",
   "metadata": {},
   "outputs": [
    {
     "data": {
      "text/plain": [
       "'1223'"
      ]
     },
     "execution_count": 48,
     "metadata": {},
     "output_type": "execute_result"
    }
   ],
   "source": [
    "x+y"
   ]
  },
  {
   "cell_type": "code",
   "execution_count": 49,
   "id": "ed8211d6",
   "metadata": {},
   "outputs": [
    {
     "data": {
      "text/plain": [
       "'1223'"
      ]
     },
     "execution_count": 49,
     "metadata": {},
     "output_type": "execute_result"
    }
   ],
   "source": [
    "z=x+y\n",
    "z"
   ]
  },
  {
   "cell_type": "code",
   "execution_count": 50,
   "id": "7666b4e4",
   "metadata": {},
   "outputs": [],
   "source": [
    "x=int(x)"
   ]
  },
  {
   "cell_type": "code",
   "execution_count": 51,
   "id": "92dd9c42",
   "metadata": {},
   "outputs": [],
   "source": [
    "y=int(y)"
   ]
  },
  {
   "cell_type": "code",
   "execution_count": 52,
   "id": "5dc7693d",
   "metadata": {},
   "outputs": [
    {
     "data": {
      "text/plain": [
       "35"
      ]
     },
     "execution_count": 52,
     "metadata": {},
     "output_type": "execute_result"
    }
   ],
   "source": [
    "x+y"
   ]
  },
  {
   "cell_type": "markdown",
   "id": "ace19780",
   "metadata": {},
   "source": [
    "# Tuples"
   ]
  },
  {
   "cell_type": "code",
   "execution_count": 53,
   "id": "ba56f586",
   "metadata": {},
   "outputs": [],
   "source": [
    "b=(1,2,3,4,6)\n",
    "c=(6,7,9,11,5,4)"
   ]
  },
  {
   "cell_type": "code",
   "execution_count": 54,
   "id": "e87bc098",
   "metadata": {},
   "outputs": [
    {
     "data": {
      "text/plain": [
       "tuple"
      ]
     },
     "execution_count": 54,
     "metadata": {},
     "output_type": "execute_result"
    }
   ],
   "source": [
    "type(b)"
   ]
  },
  {
   "cell_type": "code",
   "execution_count": 55,
   "id": "bd5c934e",
   "metadata": {},
   "outputs": [
    {
     "data": {
      "text/plain": [
       "tuple"
      ]
     },
     "execution_count": 55,
     "metadata": {},
     "output_type": "execute_result"
    }
   ],
   "source": [
    "type(c)"
   ]
  },
  {
   "cell_type": "code",
   "execution_count": 56,
   "id": "2a7f19b2",
   "metadata": {},
   "outputs": [
    {
     "data": {
      "text/plain": [
       "(1, 2, 3, 4, 6, 6, 7, 9, 11, 5, 4)"
      ]
     },
     "execution_count": 56,
     "metadata": {},
     "output_type": "execute_result"
    }
   ],
   "source": [
    "b+c"
   ]
  },
  {
   "cell_type": "code",
   "execution_count": 57,
   "id": "e4f35f44",
   "metadata": {},
   "outputs": [
    {
     "data": {
      "text/plain": [
       "(1, 2, 3, 4, 6, 1, 2, 3, 4, 6, 1, 2, 3, 4, 6)"
      ]
     },
     "execution_count": 57,
     "metadata": {},
     "output_type": "execute_result"
    }
   ],
   "source": [
    "b*3"
   ]
  },
  {
   "cell_type": "code",
   "execution_count": 58,
   "id": "8a878ce8",
   "metadata": {},
   "outputs": [
    {
     "data": {
      "text/plain": [
       "4"
      ]
     },
     "execution_count": 58,
     "metadata": {},
     "output_type": "execute_result"
    }
   ],
   "source": [
    "b[3]"
   ]
  },
  {
   "cell_type": "code",
   "execution_count": 59,
   "id": "7cc3c4d1",
   "metadata": {},
   "outputs": [
    {
     "data": {
      "text/plain": [
       "5"
      ]
     },
     "execution_count": 59,
     "metadata": {},
     "output_type": "execute_result"
    }
   ],
   "source": [
    "c[4]"
   ]
  },
  {
   "cell_type": "code",
   "execution_count": 60,
   "id": "6afcd2f6",
   "metadata": {},
   "outputs": [
    {
     "data": {
      "text/plain": [
       "(3, 4)"
      ]
     },
     "execution_count": 60,
     "metadata": {},
     "output_type": "execute_result"
    }
   ],
   "source": [
    "b[-3:-1]"
   ]
  },
  {
   "cell_type": "code",
   "execution_count": 61,
   "id": "b10f3eba",
   "metadata": {},
   "outputs": [
    {
     "data": {
      "text/plain": [
       "(11, 5, 4)"
      ]
     },
     "execution_count": 61,
     "metadata": {},
     "output_type": "execute_result"
    }
   ],
   "source": [
    "c[-3:]"
   ]
  },
  {
   "cell_type": "markdown",
   "id": "c0fbc29e",
   "metadata": {},
   "source": [
    "# Dictionary\n",
    "Dictionary is always keys value pair"
   ]
  },
  {
   "cell_type": "code",
   "execution_count": 62,
   "id": "722e1e8c",
   "metadata": {},
   "outputs": [
    {
     "data": {
      "text/plain": [
       "dict"
      ]
     },
     "execution_count": 62,
     "metadata": {},
     "output_type": "execute_result"
    }
   ],
   "source": [
    "empl={}\n",
    "type(empl)"
   ]
  },
  {
   "cell_type": "code",
   "execution_count": 63,
   "id": "10e96011",
   "metadata": {},
   "outputs": [],
   "source": [
    "empl[\"name\"]=\"Mithil\"\n",
    "empl[\"age\"]=\"20\"\n",
    "empl[\"Gender\"]=\"m\""
   ]
  },
  {
   "cell_type": "code",
   "execution_count": 64,
   "id": "c79bea75",
   "metadata": {},
   "outputs": [
    {
     "data": {
      "text/plain": [
       "{'name': 'Mithil', 'age': '20', 'Gender': 'm'}"
      ]
     },
     "execution_count": 64,
     "metadata": {},
     "output_type": "execute_result"
    }
   ],
   "source": [
    "empl"
   ]
  },
  {
   "cell_type": "code",
   "execution_count": 65,
   "id": "68cabb39",
   "metadata": {},
   "outputs": [
    {
     "data": {
      "text/plain": [
       "'Mithil'"
      ]
     },
     "execution_count": 65,
     "metadata": {},
     "output_type": "execute_result"
    }
   ],
   "source": [
    "empl[\"name\"]"
   ]
  },
  {
   "cell_type": "code",
   "execution_count": 66,
   "id": "c5db2cfb",
   "metadata": {},
   "outputs": [
    {
     "data": {
      "text/plain": [
       "'20'"
      ]
     },
     "execution_count": 66,
     "metadata": {},
     "output_type": "execute_result"
    }
   ],
   "source": [
    "empl[\"age\"]"
   ]
  },
  {
   "cell_type": "code",
   "execution_count": 67,
   "id": "3d604bc9",
   "metadata": {},
   "outputs": [
    {
     "data": {
      "text/plain": [
       "'m'"
      ]
     },
     "execution_count": 67,
     "metadata": {},
     "output_type": "execute_result"
    }
   ],
   "source": [
    "empl[\"Gender\"]"
   ]
  },
  {
   "cell_type": "code",
   "execution_count": 68,
   "id": "ce4d5b08",
   "metadata": {},
   "outputs": [
    {
     "data": {
      "text/plain": [
       "dict_keys(['name', 'age', 'Gender'])"
      ]
     },
     "execution_count": 68,
     "metadata": {},
     "output_type": "execute_result"
    }
   ],
   "source": [
    "empl.keys()"
   ]
  },
  {
   "cell_type": "code",
   "execution_count": 69,
   "id": "6104dc5e",
   "metadata": {},
   "outputs": [
    {
     "data": {
      "text/plain": [
       "dict_values(['Mithil', '20', 'm'])"
      ]
     },
     "execution_count": 69,
     "metadata": {},
     "output_type": "execute_result"
    }
   ],
   "source": [
    "empl.values()"
   ]
  },
  {
   "cell_type": "markdown",
   "id": "db41300d",
   "metadata": {},
   "source": [
    "# Loop\n",
    "While"
   ]
  },
  {
   "cell_type": "code",
   "execution_count": 70,
   "id": "28f3e829",
   "metadata": {},
   "outputs": [
    {
     "name": "stdout",
     "output_type": "stream",
     "text": [
      "the count is: 0\n",
      "the count is: 1\n",
      "the count is: 2\n",
      "the count is: 3\n",
      "the count is: 4\n",
      "the count is: 5\n",
      "the count is: 6\n",
      "the count is: 7\n",
      "the count is: 8\n",
      "Mithil Patel\n"
     ]
    }
   ],
   "source": [
    "count = 0\n",
    "while(count<9):\n",
    "    print('the count is:',count)\n",
    "    count = count+1\n",
    "print(\"Mithil Patel\")    "
   ]
  },
  {
   "cell_type": "code",
   "execution_count": 71,
   "id": "3f92259e",
   "metadata": {},
   "outputs": [
    {
     "name": "stdout",
     "output_type": "stream",
     "text": [
      "Mithil\n",
      "Mithil\n",
      "Mithil\n",
      "Mithil\n",
      "Mithil\n",
      "Mithil\n",
      "Mithil\n",
      "Mithil\n",
      "Mithil\n"
     ]
    }
   ],
   "source": [
    "count=0\n",
    "while(count<9):\n",
    "    count=count+1\n",
    "    print('Mithil')\n",
    "  \n",
    "     "
   ]
  },
  {
   "cell_type": "markdown",
   "id": "11fabc1a",
   "metadata": {},
   "source": [
    "# While with else"
   ]
  },
  {
   "cell_type": "code",
   "execution_count": 72,
   "id": "e46218fb",
   "metadata": {},
   "outputs": [
    {
     "name": "stdout",
     "output_type": "stream",
     "text": [
      "0 is less than 7\n",
      "1 is less than 7\n",
      "2 is less than 7\n",
      "3 is less than 7\n",
      "4 is less than 7\n",
      "5 is less than 7\n",
      "6 is less than 7\n",
      "7 is not less than 7\n"
     ]
    }
   ],
   "source": [
    "count=0\n",
    "while count<7:\n",
    "    print(count,\"is less than 7\")\n",
    "    count=count+1\n",
    "else:\n",
    "    print(count,\"is not less than 7\")"
   ]
  },
  {
   "cell_type": "code",
   "execution_count": 73,
   "id": "c4e828d7",
   "metadata": {},
   "outputs": [
    {
     "name": "stdout",
     "output_type": "stream",
     "text": [
      "0 Mithil\n",
      "1 Mithil\n",
      "2 Mithil\n",
      "3 Mithil\n",
      "4 Mithil\n",
      "5 Mithil\n",
      "6 Mithil\n",
      "7 Hello\n"
     ]
    }
   ],
   "source": [
    "c=0\n",
    "while c<7:\n",
    "    print(c,\"Mithil\")\n",
    "    c=c+1\n",
    "else:\n",
    "    print(c,\"Hello\")"
   ]
  },
  {
   "cell_type": "markdown",
   "id": "dc428cb0",
   "metadata": {},
   "source": [
    "# For Loop"
   ]
  },
  {
   "cell_type": "code",
   "execution_count": 74,
   "id": "37d0092d",
   "metadata": {},
   "outputs": [
    {
     "name": "stdout",
     "output_type": "stream",
     "text": [
      "current Letter: M\n",
      "current Letter: i\n",
      "current Letter: t\n",
      "current Letter: h\n",
      "current Letter: i\n",
      "current Letter: l\n"
     ]
    }
   ],
   "source": [
    "for letter in 'Mithil':\n",
    "    print('current Letter:',letter)"
   ]
  },
  {
   "cell_type": "code",
   "execution_count": 75,
   "id": "28a3d56e",
   "metadata": {},
   "outputs": [
    {
     "name": "stdout",
     "output_type": "stream",
     "text": [
      "current fruit: jeans\n",
      "current fruit: tshrit\n",
      "current fruit: shirt\n"
     ]
    }
   ],
   "source": [
    "fruits=['jeans','tshrit','shirt']\n",
    "for fruit in fruits:\n",
    "    print('current fruit:',fruit)\n",
    "        "
   ]
  },
  {
   "cell_type": "code",
   "execution_count": 76,
   "id": "af6d2464",
   "metadata": {},
   "outputs": [
    {
     "name": "stdout",
     "output_type": "stream",
     "text": [
      "Mithil\n",
      "Mithil\n",
      "Mithil\n",
      "Mithil\n",
      "Mithil\n",
      "Mithil\n",
      "Mithil\n",
      "Mithil\n",
      "Mithil\n",
      "Mithil\n"
     ]
    }
   ],
   "source": [
    "for i in range(10):\n",
    "    print(\"Mithil\")\n"
   ]
  },
  {
   "cell_type": "markdown",
   "id": "32c75f06",
   "metadata": {},
   "source": [
    "# for loop with else"
   ]
  },
  {
   "cell_type": "code",
   "execution_count": 83,
   "id": "353e0de1",
   "metadata": {},
   "outputs": [
    {
     "name": "stdout",
     "output_type": "stream",
     "text": [
      "10 equals 5 * 2\n",
      "11 is a prime number\n",
      "12 is a prime number\n",
      "13 is a prime number\n",
      "14 is a prime number\n",
      "15 equals 5 * 3\n",
      "16 is a prime number\n",
      "17 is a prime number\n",
      "18 is a prime number\n",
      "19 is a prime number\n",
      "20 equals 5 * 4\n",
      "21 is a prime number\n",
      "22 is a prime number\n",
      "23 is a prime number\n",
      "24 is a prime number\n",
      "25 equals 5 * 5\n",
      "26 is a prime number\n",
      "27 is a prime number\n",
      "28 is a prime number\n",
      "29 is a prime number\n"
     ]
    }
   ],
   "source": [
    "for num in range(10,30):\n",
    "    for i in range(5,num):\n",
    "        if num%i==0:\n",
    "            j=num/i\n",
    "            print('%d equals %d * %d'%(num,i,j))\n",
    "            break\n",
    "        else:\n",
    "            print(num,'is a prime number')\n",
    "            break"
   ]
  },
  {
   "cell_type": "code",
   "execution_count": 78,
   "id": "92f666c4",
   "metadata": {},
   "outputs": [
    {
     "data": {
      "text/plain": [
       "3.141592653589793"
      ]
     },
     "execution_count": 78,
     "metadata": {},
     "output_type": "execute_result"
    }
   ],
   "source": [
    "from math import pi\n",
    "pi"
   ]
  },
  {
   "cell_type": "code",
   "execution_count": 79,
   "id": "0e4137fa",
   "metadata": {},
   "outputs": [
    {
     "name": "stdout",
     "output_type": "stream",
     "text": [
      "201.06192982974676\n"
     ]
    }
   ],
   "source": [
    "r=8\n",
    "print(pi*r*r)"
   ]
  },
  {
   "cell_type": "code",
   "execution_count": 80,
   "id": "7a9293ef",
   "metadata": {},
   "outputs": [
    {
     "name": "stdout",
     "output_type": "stream",
     "text": [
      "enter value of r: 5\n",
      "78.53981633974483\n"
     ]
    }
   ],
   "source": [
    "r=int(input(\"enter value of r: \"))\n",
    "print(pi*r*r)"
   ]
  },
  {
   "cell_type": "markdown",
   "id": "3917c0ba",
   "metadata": {},
   "source": [
    "# conditional statement"
   ]
  },
  {
   "cell_type": "code",
   "execution_count": 81,
   "id": "903f7629",
   "metadata": {},
   "outputs": [
    {
     "name": "stdout",
     "output_type": "stream",
     "text": [
      "enter value of number:12\n",
      "12 is positive number\n"
     ]
    }
   ],
   "source": [
    "#if statement\n",
    " \n",
    "    \n",
    "num=int(input(\"enter value of number:\"))\n",
    "if num>=0:\n",
    "    if num ==0:\n",
    "        print(num,' is zero')\n",
    "    else:\n",
    "         print(num,'is positive number')\n",
    "else:\n",
    "    print(num,'is negative number')\n",
    "    \n",
    "    "
   ]
  },
  {
   "cell_type": "markdown",
   "id": "dee18b86",
   "metadata": {},
   "source": [
    "# calculator progrram"
   ]
  },
  {
   "cell_type": "code",
   "execution_count": 82,
   "id": "386618dc",
   "metadata": {},
   "outputs": [
    {
     "name": "stdout",
     "output_type": "stream",
     "text": [
      "Select operation\n",
      "1.addition\n",
      "2.subtraction\n",
      "3.multiplication\n",
      "4.division\n",
      "Enter choice(1/2/3/4): 1\n",
      "enter the first number:2\n",
      "enter the secound number:5\n",
      "2 + 5 = 7\n"
     ]
    }
   ],
   "source": [
    "#create function for each opration \n",
    "#this function add two number\n",
    "\n",
    "def add(x,y):\n",
    "    return x+y\n",
    "\n",
    "#this function substraction two number\n",
    "\n",
    "def sub(x,y):\n",
    "    return x-y\n",
    "\n",
    "#this function multiplication two number\n",
    "\n",
    "def mul(x,y):\n",
    "    return x*y\n",
    "\n",
    "#this function division two number\n",
    "\n",
    "def div(x,y):\n",
    "    return x/y\n",
    "\n",
    "print(\"Select operation\")\n",
    "print(\"1.addition\")\n",
    "print(\"2.subtraction\")\n",
    "print(\"3.multiplication\")\n",
    "print(\"4.division\")\n",
    "\n",
    "choise=input(\"Enter choice(1/2/3/4): \")\n",
    "\n",
    "a=int(input(\"enter the first number:\"))\n",
    "b=int(input(\"enter the secound number:\"))\n",
    "\n",
    "if choise =='1':\n",
    "    print(a,\"+\",b,'=',add(a,b))\n",
    "\n",
    "elif choise=='2':\n",
    "    print(a,\"-\",b,'=',sub(a,b))\n",
    "    \n",
    "elif choise=='3':\n",
    "    print(a,\"*\",b,'=',mul(a,b))\n",
    "    \n",
    "elif choise=='4':\n",
    "    print(a,\"/\",b,'=',div(a,b))    \n",
    "    \n",
    "else:\n",
    "    print(\"invalid input\")\n",
    "\n",
    "\n"
   ]
  },
  {
   "cell_type": "code",
   "execution_count": null,
   "id": "a131e20b",
   "metadata": {},
   "outputs": [],
   "source": []
  }
 ],
 "metadata": {
  "kernelspec": {
   "display_name": "Python 3 (ipykernel)",
   "language": "python",
   "name": "python3"
  },
  "language_info": {
   "codemirror_mode": {
    "name": "ipython",
    "version": 3
   },
   "file_extension": ".py",
   "mimetype": "text/x-python",
   "name": "python",
   "nbconvert_exporter": "python",
   "pygments_lexer": "ipython3",
   "version": "3.9.12"
  }
 },
 "nbformat": 4,
 "nbformat_minor": 5
}
